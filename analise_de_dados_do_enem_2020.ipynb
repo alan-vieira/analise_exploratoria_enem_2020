{
 "cells": [
  {
   "cell_type": "markdown",
   "id": "7095a64c",
   "metadata": {},
   "source": [
    "# Análise exploratória de dados do ENEM 2020\n",
    "### O objetivo do projeto é entender o impacto das variáveis: UF da escola, idade, sexo, cor/raça, nota de matemática, nota em ciências humanas, disponibilidade de internet em casa, renda familiar mensal e escolaridade da mãe (‘Q002’), nas notas dos candidatos.\n",
    "\n"
   ]
  },
  {
   "cell_type": "code",
   "execution_count": 1,
   "id": "0a3ce1f9",
   "metadata": {},
   "outputs": [],
   "source": [
    "# importando bibliotecas\n",
    "import pandas as pd\n",
    "import numpy as np\n",
    "import matplotlib.pyplot as plt\n",
    "import seaborn as sns"
   ]
  },
  {
   "cell_type": "markdown",
   "id": "23cd88b7",
   "metadata": {},
   "source": [
    "### Para realização da análise foram importados os dados do ENEM 2020.\n",
    "### https://www.gov.br/inep/pt-br/acesso-a-informacao/dados-abertos/microdados/enem"
   ]
  },
  {
   "cell_type": "code",
   "execution_count": 2,
   "id": "69d11bf2",
   "metadata": {
    "scrolled": true
   },
   "outputs": [],
   "source": [
    "# importando a base de dados para um dataframe\n",
    "df = pd.read_csv(\"MICRODADOS_ENEM_2020.csv\", delimiter=\";\",  encoding = \"ISO-8859-1\")"
   ]
  },
  {
   "cell_type": "markdown",
   "id": "549c4382",
   "metadata": {},
   "source": [
    "### Ao visualizarmos os dados, podemos observar a ausência (NaN) de alguns valores."
   ]
  },
  {
   "cell_type": "code",
   "execution_count": 3,
   "id": "040d3731",
   "metadata": {},
   "outputs": [
    {
     "data": {
      "text/html": [
       "<div>\n",
       "<style scoped>\n",
       "    .dataframe tbody tr th:only-of-type {\n",
       "        vertical-align: middle;\n",
       "    }\n",
       "\n",
       "    .dataframe tbody tr th {\n",
       "        vertical-align: top;\n",
       "    }\n",
       "\n",
       "    .dataframe thead th {\n",
       "        text-align: right;\n",
       "    }\n",
       "</style>\n",
       "<table border=\"1\" class=\"dataframe\">\n",
       "  <thead>\n",
       "    <tr style=\"text-align: right;\">\n",
       "      <th></th>\n",
       "      <th>NU_INSCRICAO</th>\n",
       "      <th>NU_ANO</th>\n",
       "      <th>TP_FAIXA_ETARIA</th>\n",
       "      <th>TP_SEXO</th>\n",
       "      <th>TP_ESTADO_CIVIL</th>\n",
       "      <th>TP_COR_RACA</th>\n",
       "      <th>TP_NACIONALIDADE</th>\n",
       "      <th>TP_ST_CONCLUSAO</th>\n",
       "      <th>TP_ANO_CONCLUIU</th>\n",
       "      <th>TP_ESCOLA</th>\n",
       "      <th>...</th>\n",
       "      <th>Q016</th>\n",
       "      <th>Q017</th>\n",
       "      <th>Q018</th>\n",
       "      <th>Q019</th>\n",
       "      <th>Q020</th>\n",
       "      <th>Q021</th>\n",
       "      <th>Q022</th>\n",
       "      <th>Q023</th>\n",
       "      <th>Q024</th>\n",
       "      <th>Q025</th>\n",
       "    </tr>\n",
       "  </thead>\n",
       "  <tbody>\n",
       "    <tr>\n",
       "      <th>0</th>\n",
       "      <td>200006271946</td>\n",
       "      <td>2020</td>\n",
       "      <td>11</td>\n",
       "      <td>F</td>\n",
       "      <td>1</td>\n",
       "      <td>2</td>\n",
       "      <td>1</td>\n",
       "      <td>1</td>\n",
       "      <td>11</td>\n",
       "      <td>1</td>\n",
       "      <td>...</td>\n",
       "      <td>NaN</td>\n",
       "      <td>NaN</td>\n",
       "      <td>NaN</td>\n",
       "      <td>NaN</td>\n",
       "      <td>NaN</td>\n",
       "      <td>NaN</td>\n",
       "      <td>NaN</td>\n",
       "      <td>NaN</td>\n",
       "      <td>NaN</td>\n",
       "      <td>NaN</td>\n",
       "    </tr>\n",
       "    <tr>\n",
       "      <th>1</th>\n",
       "      <td>200001195856</td>\n",
       "      <td>2020</td>\n",
       "      <td>11</td>\n",
       "      <td>M</td>\n",
       "      <td>2</td>\n",
       "      <td>3</td>\n",
       "      <td>1</td>\n",
       "      <td>1</td>\n",
       "      <td>11</td>\n",
       "      <td>1</td>\n",
       "      <td>...</td>\n",
       "      <td>NaN</td>\n",
       "      <td>NaN</td>\n",
       "      <td>NaN</td>\n",
       "      <td>NaN</td>\n",
       "      <td>NaN</td>\n",
       "      <td>NaN</td>\n",
       "      <td>NaN</td>\n",
       "      <td>NaN</td>\n",
       "      <td>NaN</td>\n",
       "      <td>NaN</td>\n",
       "    </tr>\n",
       "    <tr>\n",
       "      <th>2</th>\n",
       "      <td>200001943954</td>\n",
       "      <td>2020</td>\n",
       "      <td>4</td>\n",
       "      <td>F</td>\n",
       "      <td>2</td>\n",
       "      <td>3</td>\n",
       "      <td>2</td>\n",
       "      <td>2</td>\n",
       "      <td>0</td>\n",
       "      <td>2</td>\n",
       "      <td>...</td>\n",
       "      <td>B</td>\n",
       "      <td>A</td>\n",
       "      <td>A</td>\n",
       "      <td>B</td>\n",
       "      <td>A</td>\n",
       "      <td>A</td>\n",
       "      <td>A</td>\n",
       "      <td>A</td>\n",
       "      <td>A</td>\n",
       "      <td>A</td>\n",
       "    </tr>\n",
       "    <tr>\n",
       "      <th>3</th>\n",
       "      <td>200001908998</td>\n",
       "      <td>2020</td>\n",
       "      <td>2</td>\n",
       "      <td>M</td>\n",
       "      <td>1</td>\n",
       "      <td>3</td>\n",
       "      <td>1</td>\n",
       "      <td>2</td>\n",
       "      <td>0</td>\n",
       "      <td>2</td>\n",
       "      <td>...</td>\n",
       "      <td>NaN</td>\n",
       "      <td>NaN</td>\n",
       "      <td>NaN</td>\n",
       "      <td>NaN</td>\n",
       "      <td>NaN</td>\n",
       "      <td>NaN</td>\n",
       "      <td>NaN</td>\n",
       "      <td>NaN</td>\n",
       "      <td>NaN</td>\n",
       "      <td>NaN</td>\n",
       "    </tr>\n",
       "    <tr>\n",
       "      <th>4</th>\n",
       "      <td>200001634757</td>\n",
       "      <td>2020</td>\n",
       "      <td>4</td>\n",
       "      <td>F</td>\n",
       "      <td>1</td>\n",
       "      <td>3</td>\n",
       "      <td>2</td>\n",
       "      <td>1</td>\n",
       "      <td>1</td>\n",
       "      <td>1</td>\n",
       "      <td>...</td>\n",
       "      <td>A</td>\n",
       "      <td>A</td>\n",
       "      <td>A</td>\n",
       "      <td>B</td>\n",
       "      <td>A</td>\n",
       "      <td>B</td>\n",
       "      <td>B</td>\n",
       "      <td>A</td>\n",
       "      <td>A</td>\n",
       "      <td>B</td>\n",
       "    </tr>\n",
       "    <tr>\n",
       "      <th>5</th>\n",
       "      <td>200003132410</td>\n",
       "      <td>2020</td>\n",
       "      <td>3</td>\n",
       "      <td>F</td>\n",
       "      <td>1</td>\n",
       "      <td>3</td>\n",
       "      <td>1</td>\n",
       "      <td>1</td>\n",
       "      <td>1</td>\n",
       "      <td>1</td>\n",
       "      <td>...</td>\n",
       "      <td>B</td>\n",
       "      <td>A</td>\n",
       "      <td>A</td>\n",
       "      <td>B</td>\n",
       "      <td>B</td>\n",
       "      <td>A</td>\n",
       "      <td>D</td>\n",
       "      <td>A</td>\n",
       "      <td>B</td>\n",
       "      <td>B</td>\n",
       "    </tr>\n",
       "    <tr>\n",
       "      <th>6</th>\n",
       "      <td>200001379770</td>\n",
       "      <td>2020</td>\n",
       "      <td>9</td>\n",
       "      <td>M</td>\n",
       "      <td>1</td>\n",
       "      <td>3</td>\n",
       "      <td>1</td>\n",
       "      <td>1</td>\n",
       "      <td>6</td>\n",
       "      <td>1</td>\n",
       "      <td>...</td>\n",
       "      <td>NaN</td>\n",
       "      <td>NaN</td>\n",
       "      <td>NaN</td>\n",
       "      <td>NaN</td>\n",
       "      <td>NaN</td>\n",
       "      <td>NaN</td>\n",
       "      <td>NaN</td>\n",
       "      <td>NaN</td>\n",
       "      <td>NaN</td>\n",
       "      <td>NaN</td>\n",
       "    </tr>\n",
       "    <tr>\n",
       "      <th>7</th>\n",
       "      <td>200001334237</td>\n",
       "      <td>2020</td>\n",
       "      <td>4</td>\n",
       "      <td>M</td>\n",
       "      <td>1</td>\n",
       "      <td>1</td>\n",
       "      <td>1</td>\n",
       "      <td>1</td>\n",
       "      <td>1</td>\n",
       "      <td>1</td>\n",
       "      <td>...</td>\n",
       "      <td>NaN</td>\n",
       "      <td>NaN</td>\n",
       "      <td>NaN</td>\n",
       "      <td>NaN</td>\n",
       "      <td>NaN</td>\n",
       "      <td>NaN</td>\n",
       "      <td>NaN</td>\n",
       "      <td>NaN</td>\n",
       "      <td>NaN</td>\n",
       "      <td>NaN</td>\n",
       "    </tr>\n",
       "    <tr>\n",
       "      <th>8</th>\n",
       "      <td>200006762554</td>\n",
       "      <td>2020</td>\n",
       "      <td>5</td>\n",
       "      <td>F</td>\n",
       "      <td>2</td>\n",
       "      <td>3</td>\n",
       "      <td>1</td>\n",
       "      <td>1</td>\n",
       "      <td>3</td>\n",
       "      <td>1</td>\n",
       "      <td>...</td>\n",
       "      <td>A</td>\n",
       "      <td>A</td>\n",
       "      <td>A</td>\n",
       "      <td>B</td>\n",
       "      <td>A</td>\n",
       "      <td>A</td>\n",
       "      <td>C</td>\n",
       "      <td>A</td>\n",
       "      <td>A</td>\n",
       "      <td>A</td>\n",
       "    </tr>\n",
       "    <tr>\n",
       "      <th>9</th>\n",
       "      <td>200005146210</td>\n",
       "      <td>2020</td>\n",
       "      <td>2</td>\n",
       "      <td>M</td>\n",
       "      <td>1</td>\n",
       "      <td>2</td>\n",
       "      <td>1</td>\n",
       "      <td>2</td>\n",
       "      <td>0</td>\n",
       "      <td>2</td>\n",
       "      <td>...</td>\n",
       "      <td>A</td>\n",
       "      <td>A</td>\n",
       "      <td>A</td>\n",
       "      <td>B</td>\n",
       "      <td>A</td>\n",
       "      <td>A</td>\n",
       "      <td>A</td>\n",
       "      <td>A</td>\n",
       "      <td>A</td>\n",
       "      <td>B</td>\n",
       "    </tr>\n",
       "    <tr>\n",
       "      <th>10</th>\n",
       "      <td>200004902048</td>\n",
       "      <td>2020</td>\n",
       "      <td>6</td>\n",
       "      <td>M</td>\n",
       "      <td>1</td>\n",
       "      <td>1</td>\n",
       "      <td>1</td>\n",
       "      <td>1</td>\n",
       "      <td>3</td>\n",
       "      <td>1</td>\n",
       "      <td>...</td>\n",
       "      <td>B</td>\n",
       "      <td>A</td>\n",
       "      <td>A</td>\n",
       "      <td>B</td>\n",
       "      <td>A</td>\n",
       "      <td>A</td>\n",
       "      <td>C</td>\n",
       "      <td>B</td>\n",
       "      <td>B</td>\n",
       "      <td>B</td>\n",
       "    </tr>\n",
       "    <tr>\n",
       "      <th>11</th>\n",
       "      <td>200006138472</td>\n",
       "      <td>2020</td>\n",
       "      <td>7</td>\n",
       "      <td>M</td>\n",
       "      <td>1</td>\n",
       "      <td>1</td>\n",
       "      <td>1</td>\n",
       "      <td>1</td>\n",
       "      <td>0</td>\n",
       "      <td>1</td>\n",
       "      <td>...</td>\n",
       "      <td>A</td>\n",
       "      <td>B</td>\n",
       "      <td>A</td>\n",
       "      <td>B</td>\n",
       "      <td>A</td>\n",
       "      <td>A</td>\n",
       "      <td>C</td>\n",
       "      <td>A</td>\n",
       "      <td>B</td>\n",
       "      <td>B</td>\n",
       "    </tr>\n",
       "    <tr>\n",
       "      <th>12</th>\n",
       "      <td>200005613689</td>\n",
       "      <td>2020</td>\n",
       "      <td>3</td>\n",
       "      <td>F</td>\n",
       "      <td>1</td>\n",
       "      <td>3</td>\n",
       "      <td>1</td>\n",
       "      <td>1</td>\n",
       "      <td>1</td>\n",
       "      <td>1</td>\n",
       "      <td>...</td>\n",
       "      <td>A</td>\n",
       "      <td>A</td>\n",
       "      <td>A</td>\n",
       "      <td>A</td>\n",
       "      <td>A</td>\n",
       "      <td>A</td>\n",
       "      <td>C</td>\n",
       "      <td>A</td>\n",
       "      <td>A</td>\n",
       "      <td>A</td>\n",
       "    </tr>\n",
       "    <tr>\n",
       "      <th>13</th>\n",
       "      <td>200004833505</td>\n",
       "      <td>2020</td>\n",
       "      <td>11</td>\n",
       "      <td>F</td>\n",
       "      <td>2</td>\n",
       "      <td>2</td>\n",
       "      <td>1</td>\n",
       "      <td>1</td>\n",
       "      <td>12</td>\n",
       "      <td>1</td>\n",
       "      <td>...</td>\n",
       "      <td>NaN</td>\n",
       "      <td>NaN</td>\n",
       "      <td>NaN</td>\n",
       "      <td>NaN</td>\n",
       "      <td>NaN</td>\n",
       "      <td>NaN</td>\n",
       "      <td>NaN</td>\n",
       "      <td>NaN</td>\n",
       "      <td>NaN</td>\n",
       "      <td>NaN</td>\n",
       "    </tr>\n",
       "    <tr>\n",
       "      <th>14</th>\n",
       "      <td>200004570764</td>\n",
       "      <td>2020</td>\n",
       "      <td>11</td>\n",
       "      <td>M</td>\n",
       "      <td>1</td>\n",
       "      <td>2</td>\n",
       "      <td>1</td>\n",
       "      <td>1</td>\n",
       "      <td>0</td>\n",
       "      <td>1</td>\n",
       "      <td>...</td>\n",
       "      <td>A</td>\n",
       "      <td>A</td>\n",
       "      <td>A</td>\n",
       "      <td>B</td>\n",
       "      <td>A</td>\n",
       "      <td>A</td>\n",
       "      <td>B</td>\n",
       "      <td>A</td>\n",
       "      <td>B</td>\n",
       "      <td>B</td>\n",
       "    </tr>\n",
       "    <tr>\n",
       "      <th>15</th>\n",
       "      <td>200001071590</td>\n",
       "      <td>2020</td>\n",
       "      <td>5</td>\n",
       "      <td>F</td>\n",
       "      <td>1</td>\n",
       "      <td>3</td>\n",
       "      <td>1</td>\n",
       "      <td>1</td>\n",
       "      <td>0</td>\n",
       "      <td>1</td>\n",
       "      <td>...</td>\n",
       "      <td>NaN</td>\n",
       "      <td>NaN</td>\n",
       "      <td>NaN</td>\n",
       "      <td>NaN</td>\n",
       "      <td>NaN</td>\n",
       "      <td>NaN</td>\n",
       "      <td>NaN</td>\n",
       "      <td>NaN</td>\n",
       "      <td>NaN</td>\n",
       "      <td>NaN</td>\n",
       "    </tr>\n",
       "    <tr>\n",
       "      <th>16</th>\n",
       "      <td>200001934470</td>\n",
       "      <td>2020</td>\n",
       "      <td>7</td>\n",
       "      <td>F</td>\n",
       "      <td>1</td>\n",
       "      <td>3</td>\n",
       "      <td>1</td>\n",
       "      <td>1</td>\n",
       "      <td>4</td>\n",
       "      <td>1</td>\n",
       "      <td>...</td>\n",
       "      <td>A</td>\n",
       "      <td>A</td>\n",
       "      <td>A</td>\n",
       "      <td>B</td>\n",
       "      <td>A</td>\n",
       "      <td>A</td>\n",
       "      <td>C</td>\n",
       "      <td>A</td>\n",
       "      <td>B</td>\n",
       "      <td>B</td>\n",
       "    </tr>\n",
       "    <tr>\n",
       "      <th>17</th>\n",
       "      <td>200006066678</td>\n",
       "      <td>2020</td>\n",
       "      <td>4</td>\n",
       "      <td>M</td>\n",
       "      <td>1</td>\n",
       "      <td>1</td>\n",
       "      <td>1</td>\n",
       "      <td>1</td>\n",
       "      <td>1</td>\n",
       "      <td>1</td>\n",
       "      <td>...</td>\n",
       "      <td>NaN</td>\n",
       "      <td>NaN</td>\n",
       "      <td>NaN</td>\n",
       "      <td>NaN</td>\n",
       "      <td>NaN</td>\n",
       "      <td>NaN</td>\n",
       "      <td>NaN</td>\n",
       "      <td>NaN</td>\n",
       "      <td>NaN</td>\n",
       "      <td>NaN</td>\n",
       "    </tr>\n",
       "    <tr>\n",
       "      <th>18</th>\n",
       "      <td>200003343448</td>\n",
       "      <td>2020</td>\n",
       "      <td>7</td>\n",
       "      <td>F</td>\n",
       "      <td>1</td>\n",
       "      <td>3</td>\n",
       "      <td>1</td>\n",
       "      <td>1</td>\n",
       "      <td>3</td>\n",
       "      <td>1</td>\n",
       "      <td>...</td>\n",
       "      <td>A</td>\n",
       "      <td>A</td>\n",
       "      <td>A</td>\n",
       "      <td>B</td>\n",
       "      <td>B</td>\n",
       "      <td>A</td>\n",
       "      <td>C</td>\n",
       "      <td>A</td>\n",
       "      <td>B</td>\n",
       "      <td>B</td>\n",
       "    </tr>\n",
       "    <tr>\n",
       "      <th>19</th>\n",
       "      <td>200005966328</td>\n",
       "      <td>2020</td>\n",
       "      <td>13</td>\n",
       "      <td>M</td>\n",
       "      <td>1</td>\n",
       "      <td>2</td>\n",
       "      <td>1</td>\n",
       "      <td>1</td>\n",
       "      <td>0</td>\n",
       "      <td>1</td>\n",
       "      <td>...</td>\n",
       "      <td>A</td>\n",
       "      <td>A</td>\n",
       "      <td>A</td>\n",
       "      <td>B</td>\n",
       "      <td>B</td>\n",
       "      <td>A</td>\n",
       "      <td>C</td>\n",
       "      <td>A</td>\n",
       "      <td>A</td>\n",
       "      <td>A</td>\n",
       "    </tr>\n",
       "    <tr>\n",
       "      <th>20</th>\n",
       "      <td>200002523760</td>\n",
       "      <td>2020</td>\n",
       "      <td>10</td>\n",
       "      <td>M</td>\n",
       "      <td>1</td>\n",
       "      <td>3</td>\n",
       "      <td>1</td>\n",
       "      <td>1</td>\n",
       "      <td>8</td>\n",
       "      <td>1</td>\n",
       "      <td>...</td>\n",
       "      <td>B</td>\n",
       "      <td>A</td>\n",
       "      <td>A</td>\n",
       "      <td>C</td>\n",
       "      <td>A</td>\n",
       "      <td>A</td>\n",
       "      <td>D</td>\n",
       "      <td>A</td>\n",
       "      <td>A</td>\n",
       "      <td>B</td>\n",
       "    </tr>\n",
       "    <tr>\n",
       "      <th>21</th>\n",
       "      <td>200006589374</td>\n",
       "      <td>2020</td>\n",
       "      <td>5</td>\n",
       "      <td>M</td>\n",
       "      <td>1</td>\n",
       "      <td>1</td>\n",
       "      <td>1</td>\n",
       "      <td>1</td>\n",
       "      <td>1</td>\n",
       "      <td>1</td>\n",
       "      <td>...</td>\n",
       "      <td>B</td>\n",
       "      <td>A</td>\n",
       "      <td>A</td>\n",
       "      <td>C</td>\n",
       "      <td>A</td>\n",
       "      <td>A</td>\n",
       "      <td>E</td>\n",
       "      <td>A</td>\n",
       "      <td>B</td>\n",
       "      <td>B</td>\n",
       "    </tr>\n",
       "    <tr>\n",
       "      <th>22</th>\n",
       "      <td>200006659163</td>\n",
       "      <td>2020</td>\n",
       "      <td>6</td>\n",
       "      <td>F</td>\n",
       "      <td>1</td>\n",
       "      <td>3</td>\n",
       "      <td>1</td>\n",
       "      <td>1</td>\n",
       "      <td>3</td>\n",
       "      <td>1</td>\n",
       "      <td>...</td>\n",
       "      <td>A</td>\n",
       "      <td>A</td>\n",
       "      <td>A</td>\n",
       "      <td>B</td>\n",
       "      <td>A</td>\n",
       "      <td>A</td>\n",
       "      <td>C</td>\n",
       "      <td>A</td>\n",
       "      <td>B</td>\n",
       "      <td>A</td>\n",
       "    </tr>\n",
       "    <tr>\n",
       "      <th>23</th>\n",
       "      <td>200002797471</td>\n",
       "      <td>2020</td>\n",
       "      <td>6</td>\n",
       "      <td>F</td>\n",
       "      <td>1</td>\n",
       "      <td>3</td>\n",
       "      <td>1</td>\n",
       "      <td>1</td>\n",
       "      <td>4</td>\n",
       "      <td>1</td>\n",
       "      <td>...</td>\n",
       "      <td>A</td>\n",
       "      <td>A</td>\n",
       "      <td>A</td>\n",
       "      <td>B</td>\n",
       "      <td>B</td>\n",
       "      <td>A</td>\n",
       "      <td>C</td>\n",
       "      <td>A</td>\n",
       "      <td>A</td>\n",
       "      <td>A</td>\n",
       "    </tr>\n",
       "    <tr>\n",
       "      <th>24</th>\n",
       "      <td>200005044037</td>\n",
       "      <td>2020</td>\n",
       "      <td>5</td>\n",
       "      <td>F</td>\n",
       "      <td>2</td>\n",
       "      <td>2</td>\n",
       "      <td>1</td>\n",
       "      <td>1</td>\n",
       "      <td>2</td>\n",
       "      <td>1</td>\n",
       "      <td>...</td>\n",
       "      <td>A</td>\n",
       "      <td>A</td>\n",
       "      <td>A</td>\n",
       "      <td>A</td>\n",
       "      <td>A</td>\n",
       "      <td>A</td>\n",
       "      <td>C</td>\n",
       "      <td>A</td>\n",
       "      <td>A</td>\n",
       "      <td>B</td>\n",
       "    </tr>\n",
       "    <tr>\n",
       "      <th>25</th>\n",
       "      <td>200001994876</td>\n",
       "      <td>2020</td>\n",
       "      <td>10</td>\n",
       "      <td>F</td>\n",
       "      <td>1</td>\n",
       "      <td>2</td>\n",
       "      <td>2</td>\n",
       "      <td>2</td>\n",
       "      <td>0</td>\n",
       "      <td>2</td>\n",
       "      <td>...</td>\n",
       "      <td>NaN</td>\n",
       "      <td>NaN</td>\n",
       "      <td>NaN</td>\n",
       "      <td>NaN</td>\n",
       "      <td>NaN</td>\n",
       "      <td>NaN</td>\n",
       "      <td>NaN</td>\n",
       "      <td>NaN</td>\n",
       "      <td>NaN</td>\n",
       "      <td>NaN</td>\n",
       "    </tr>\n",
       "    <tr>\n",
       "      <th>26</th>\n",
       "      <td>200006735848</td>\n",
       "      <td>2020</td>\n",
       "      <td>10</td>\n",
       "      <td>F</td>\n",
       "      <td>1</td>\n",
       "      <td>2</td>\n",
       "      <td>1</td>\n",
       "      <td>1</td>\n",
       "      <td>9</td>\n",
       "      <td>1</td>\n",
       "      <td>...</td>\n",
       "      <td>B</td>\n",
       "      <td>A</td>\n",
       "      <td>A</td>\n",
       "      <td>B</td>\n",
       "      <td>B</td>\n",
       "      <td>A</td>\n",
       "      <td>E</td>\n",
       "      <td>A</td>\n",
       "      <td>B</td>\n",
       "      <td>B</td>\n",
       "    </tr>\n",
       "    <tr>\n",
       "      <th>27</th>\n",
       "      <td>200001346535</td>\n",
       "      <td>2020</td>\n",
       "      <td>12</td>\n",
       "      <td>F</td>\n",
       "      <td>1</td>\n",
       "      <td>3</td>\n",
       "      <td>1</td>\n",
       "      <td>1</td>\n",
       "      <td>14</td>\n",
       "      <td>1</td>\n",
       "      <td>...</td>\n",
       "      <td>B</td>\n",
       "      <td>A</td>\n",
       "      <td>B</td>\n",
       "      <td>C</td>\n",
       "      <td>B</td>\n",
       "      <td>B</td>\n",
       "      <td>D</td>\n",
       "      <td>A</td>\n",
       "      <td>B</td>\n",
       "      <td>B</td>\n",
       "    </tr>\n",
       "    <tr>\n",
       "      <th>28</th>\n",
       "      <td>200002713413</td>\n",
       "      <td>2020</td>\n",
       "      <td>11</td>\n",
       "      <td>M</td>\n",
       "      <td>1</td>\n",
       "      <td>3</td>\n",
       "      <td>1</td>\n",
       "      <td>1</td>\n",
       "      <td>11</td>\n",
       "      <td>1</td>\n",
       "      <td>...</td>\n",
       "      <td>B</td>\n",
       "      <td>A</td>\n",
       "      <td>A</td>\n",
       "      <td>B</td>\n",
       "      <td>A</td>\n",
       "      <td>A</td>\n",
       "      <td>B</td>\n",
       "      <td>A</td>\n",
       "      <td>B</td>\n",
       "      <td>B</td>\n",
       "    </tr>\n",
       "    <tr>\n",
       "      <th>29</th>\n",
       "      <td>200003251511</td>\n",
       "      <td>2020</td>\n",
       "      <td>6</td>\n",
       "      <td>F</td>\n",
       "      <td>1</td>\n",
       "      <td>1</td>\n",
       "      <td>1</td>\n",
       "      <td>1</td>\n",
       "      <td>4</td>\n",
       "      <td>1</td>\n",
       "      <td>...</td>\n",
       "      <td>A</td>\n",
       "      <td>A</td>\n",
       "      <td>A</td>\n",
       "      <td>B</td>\n",
       "      <td>A</td>\n",
       "      <td>A</td>\n",
       "      <td>C</td>\n",
       "      <td>A</td>\n",
       "      <td>B</td>\n",
       "      <td>B</td>\n",
       "    </tr>\n",
       "    <tr>\n",
       "      <th>30</th>\n",
       "      <td>200003315528</td>\n",
       "      <td>2020</td>\n",
       "      <td>7</td>\n",
       "      <td>F</td>\n",
       "      <td>1</td>\n",
       "      <td>2</td>\n",
       "      <td>1</td>\n",
       "      <td>1</td>\n",
       "      <td>0</td>\n",
       "      <td>1</td>\n",
       "      <td>...</td>\n",
       "      <td>NaN</td>\n",
       "      <td>NaN</td>\n",
       "      <td>NaN</td>\n",
       "      <td>NaN</td>\n",
       "      <td>NaN</td>\n",
       "      <td>NaN</td>\n",
       "      <td>NaN</td>\n",
       "      <td>NaN</td>\n",
       "      <td>NaN</td>\n",
       "      <td>NaN</td>\n",
       "    </tr>\n",
       "    <tr>\n",
       "      <th>31</th>\n",
       "      <td>200001086897</td>\n",
       "      <td>2020</td>\n",
       "      <td>11</td>\n",
       "      <td>F</td>\n",
       "      <td>1</td>\n",
       "      <td>2</td>\n",
       "      <td>1</td>\n",
       "      <td>1</td>\n",
       "      <td>6</td>\n",
       "      <td>1</td>\n",
       "      <td>...</td>\n",
       "      <td>A</td>\n",
       "      <td>A</td>\n",
       "      <td>A</td>\n",
       "      <td>C</td>\n",
       "      <td>A</td>\n",
       "      <td>A</td>\n",
       "      <td>C</td>\n",
       "      <td>A</td>\n",
       "      <td>A</td>\n",
       "      <td>B</td>\n",
       "    </tr>\n",
       "    <tr>\n",
       "      <th>32</th>\n",
       "      <td>200002349384</td>\n",
       "      <td>2020</td>\n",
       "      <td>7</td>\n",
       "      <td>M</td>\n",
       "      <td>1</td>\n",
       "      <td>2</td>\n",
       "      <td>1</td>\n",
       "      <td>1</td>\n",
       "      <td>4</td>\n",
       "      <td>1</td>\n",
       "      <td>...</td>\n",
       "      <td>NaN</td>\n",
       "      <td>NaN</td>\n",
       "      <td>NaN</td>\n",
       "      <td>NaN</td>\n",
       "      <td>NaN</td>\n",
       "      <td>NaN</td>\n",
       "      <td>NaN</td>\n",
       "      <td>NaN</td>\n",
       "      <td>NaN</td>\n",
       "      <td>NaN</td>\n",
       "    </tr>\n",
       "    <tr>\n",
       "      <th>33</th>\n",
       "      <td>200001699039</td>\n",
       "      <td>2020</td>\n",
       "      <td>12</td>\n",
       "      <td>F</td>\n",
       "      <td>1</td>\n",
       "      <td>2</td>\n",
       "      <td>1</td>\n",
       "      <td>1</td>\n",
       "      <td>12</td>\n",
       "      <td>1</td>\n",
       "      <td>...</td>\n",
       "      <td>A</td>\n",
       "      <td>A</td>\n",
       "      <td>A</td>\n",
       "      <td>B</td>\n",
       "      <td>A</td>\n",
       "      <td>A</td>\n",
       "      <td>B</td>\n",
       "      <td>A</td>\n",
       "      <td>B</td>\n",
       "      <td>A</td>\n",
       "    </tr>\n",
       "    <tr>\n",
       "      <th>34</th>\n",
       "      <td>200002154624</td>\n",
       "      <td>2020</td>\n",
       "      <td>7</td>\n",
       "      <td>F</td>\n",
       "      <td>0</td>\n",
       "      <td>3</td>\n",
       "      <td>1</td>\n",
       "      <td>1</td>\n",
       "      <td>5</td>\n",
       "      <td>1</td>\n",
       "      <td>...</td>\n",
       "      <td>NaN</td>\n",
       "      <td>NaN</td>\n",
       "      <td>NaN</td>\n",
       "      <td>NaN</td>\n",
       "      <td>NaN</td>\n",
       "      <td>NaN</td>\n",
       "      <td>NaN</td>\n",
       "      <td>NaN</td>\n",
       "      <td>NaN</td>\n",
       "      <td>NaN</td>\n",
       "    </tr>\n",
       "    <tr>\n",
       "      <th>35</th>\n",
       "      <td>200005550767</td>\n",
       "      <td>2020</td>\n",
       "      <td>2</td>\n",
       "      <td>F</td>\n",
       "      <td>1</td>\n",
       "      <td>1</td>\n",
       "      <td>1</td>\n",
       "      <td>3</td>\n",
       "      <td>0</td>\n",
       "      <td>1</td>\n",
       "      <td>...</td>\n",
       "      <td>B</td>\n",
       "      <td>A</td>\n",
       "      <td>B</td>\n",
       "      <td>D</td>\n",
       "      <td>A</td>\n",
       "      <td>B</td>\n",
       "      <td>D</td>\n",
       "      <td>B</td>\n",
       "      <td>B</td>\n",
       "      <td>B</td>\n",
       "    </tr>\n",
       "    <tr>\n",
       "      <th>36</th>\n",
       "      <td>200003209996</td>\n",
       "      <td>2020</td>\n",
       "      <td>3</td>\n",
       "      <td>F</td>\n",
       "      <td>1</td>\n",
       "      <td>3</td>\n",
       "      <td>1</td>\n",
       "      <td>2</td>\n",
       "      <td>0</td>\n",
       "      <td>2</td>\n",
       "      <td>...</td>\n",
       "      <td>A</td>\n",
       "      <td>A</td>\n",
       "      <td>A</td>\n",
       "      <td>B</td>\n",
       "      <td>A</td>\n",
       "      <td>B</td>\n",
       "      <td>D</td>\n",
       "      <td>B</td>\n",
       "      <td>A</td>\n",
       "      <td>A</td>\n",
       "    </tr>\n",
       "    <tr>\n",
       "      <th>37</th>\n",
       "      <td>200003154344</td>\n",
       "      <td>2020</td>\n",
       "      <td>5</td>\n",
       "      <td>F</td>\n",
       "      <td>1</td>\n",
       "      <td>3</td>\n",
       "      <td>1</td>\n",
       "      <td>1</td>\n",
       "      <td>3</td>\n",
       "      <td>1</td>\n",
       "      <td>...</td>\n",
       "      <td>B</td>\n",
       "      <td>A</td>\n",
       "      <td>A</td>\n",
       "      <td>B</td>\n",
       "      <td>A</td>\n",
       "      <td>B</td>\n",
       "      <td>B</td>\n",
       "      <td>A</td>\n",
       "      <td>B</td>\n",
       "      <td>B</td>\n",
       "    </tr>\n",
       "    <tr>\n",
       "      <th>38</th>\n",
       "      <td>200005914772</td>\n",
       "      <td>2020</td>\n",
       "      <td>4</td>\n",
       "      <td>F</td>\n",
       "      <td>1</td>\n",
       "      <td>3</td>\n",
       "      <td>1</td>\n",
       "      <td>1</td>\n",
       "      <td>2</td>\n",
       "      <td>1</td>\n",
       "      <td>...</td>\n",
       "      <td>B</td>\n",
       "      <td>A</td>\n",
       "      <td>A</td>\n",
       "      <td>B</td>\n",
       "      <td>A</td>\n",
       "      <td>A</td>\n",
       "      <td>C</td>\n",
       "      <td>A</td>\n",
       "      <td>B</td>\n",
       "      <td>B</td>\n",
       "    </tr>\n",
       "    <tr>\n",
       "      <th>39</th>\n",
       "      <td>200006314268</td>\n",
       "      <td>2020</td>\n",
       "      <td>13</td>\n",
       "      <td>F</td>\n",
       "      <td>2</td>\n",
       "      <td>3</td>\n",
       "      <td>1</td>\n",
       "      <td>1</td>\n",
       "      <td>0</td>\n",
       "      <td>1</td>\n",
       "      <td>...</td>\n",
       "      <td>A</td>\n",
       "      <td>A</td>\n",
       "      <td>A</td>\n",
       "      <td>B</td>\n",
       "      <td>A</td>\n",
       "      <td>A</td>\n",
       "      <td>C</td>\n",
       "      <td>A</td>\n",
       "      <td>A</td>\n",
       "      <td>A</td>\n",
       "    </tr>\n",
       "  </tbody>\n",
       "</table>\n",
       "<p>40 rows × 76 columns</p>\n",
       "</div>"
      ],
      "text/plain": [
       "    NU_INSCRICAO  NU_ANO  TP_FAIXA_ETARIA TP_SEXO  TP_ESTADO_CIVIL  \\\n",
       "0   200006271946    2020               11       F                1   \n",
       "1   200001195856    2020               11       M                2   \n",
       "2   200001943954    2020                4       F                2   \n",
       "3   200001908998    2020                2       M                1   \n",
       "4   200001634757    2020                4       F                1   \n",
       "5   200003132410    2020                3       F                1   \n",
       "6   200001379770    2020                9       M                1   \n",
       "7   200001334237    2020                4       M                1   \n",
       "8   200006762554    2020                5       F                2   \n",
       "9   200005146210    2020                2       M                1   \n",
       "10  200004902048    2020                6       M                1   \n",
       "11  200006138472    2020                7       M                1   \n",
       "12  200005613689    2020                3       F                1   \n",
       "13  200004833505    2020               11       F                2   \n",
       "14  200004570764    2020               11       M                1   \n",
       "15  200001071590    2020                5       F                1   \n",
       "16  200001934470    2020                7       F                1   \n",
       "17  200006066678    2020                4       M                1   \n",
       "18  200003343448    2020                7       F                1   \n",
       "19  200005966328    2020               13       M                1   \n",
       "20  200002523760    2020               10       M                1   \n",
       "21  200006589374    2020                5       M                1   \n",
       "22  200006659163    2020                6       F                1   \n",
       "23  200002797471    2020                6       F                1   \n",
       "24  200005044037    2020                5       F                2   \n",
       "25  200001994876    2020               10       F                1   \n",
       "26  200006735848    2020               10       F                1   \n",
       "27  200001346535    2020               12       F                1   \n",
       "28  200002713413    2020               11       M                1   \n",
       "29  200003251511    2020                6       F                1   \n",
       "30  200003315528    2020                7       F                1   \n",
       "31  200001086897    2020               11       F                1   \n",
       "32  200002349384    2020                7       M                1   \n",
       "33  200001699039    2020               12       F                1   \n",
       "34  200002154624    2020                7       F                0   \n",
       "35  200005550767    2020                2       F                1   \n",
       "36  200003209996    2020                3       F                1   \n",
       "37  200003154344    2020                5       F                1   \n",
       "38  200005914772    2020                4       F                1   \n",
       "39  200006314268    2020               13       F                2   \n",
       "\n",
       "    TP_COR_RACA  TP_NACIONALIDADE  TP_ST_CONCLUSAO  TP_ANO_CONCLUIU  \\\n",
       "0             2                 1                1               11   \n",
       "1             3                 1                1               11   \n",
       "2             3                 2                2                0   \n",
       "3             3                 1                2                0   \n",
       "4             3                 2                1                1   \n",
       "5             3                 1                1                1   \n",
       "6             3                 1                1                6   \n",
       "7             1                 1                1                1   \n",
       "8             3                 1                1                3   \n",
       "9             2                 1                2                0   \n",
       "10            1                 1                1                3   \n",
       "11            1                 1                1                0   \n",
       "12            3                 1                1                1   \n",
       "13            2                 1                1               12   \n",
       "14            2                 1                1                0   \n",
       "15            3                 1                1                0   \n",
       "16            3                 1                1                4   \n",
       "17            1                 1                1                1   \n",
       "18            3                 1                1                3   \n",
       "19            2                 1                1                0   \n",
       "20            3                 1                1                8   \n",
       "21            1                 1                1                1   \n",
       "22            3                 1                1                3   \n",
       "23            3                 1                1                4   \n",
       "24            2                 1                1                2   \n",
       "25            2                 2                2                0   \n",
       "26            2                 1                1                9   \n",
       "27            3                 1                1               14   \n",
       "28            3                 1                1               11   \n",
       "29            1                 1                1                4   \n",
       "30            2                 1                1                0   \n",
       "31            2                 1                1                6   \n",
       "32            2                 1                1                4   \n",
       "33            2                 1                1               12   \n",
       "34            3                 1                1                5   \n",
       "35            1                 1                3                0   \n",
       "36            3                 1                2                0   \n",
       "37            3                 1                1                3   \n",
       "38            3                 1                1                2   \n",
       "39            3                 1                1                0   \n",
       "\n",
       "    TP_ESCOLA  ...  Q016  Q017  Q018 Q019  Q020 Q021  Q022  Q023  Q024  Q025  \n",
       "0           1  ...   NaN   NaN   NaN  NaN   NaN  NaN   NaN   NaN   NaN   NaN  \n",
       "1           1  ...   NaN   NaN   NaN  NaN   NaN  NaN   NaN   NaN   NaN   NaN  \n",
       "2           2  ...     B     A     A    B     A    A     A     A     A     A  \n",
       "3           2  ...   NaN   NaN   NaN  NaN   NaN  NaN   NaN   NaN   NaN   NaN  \n",
       "4           1  ...     A     A     A    B     A    B     B     A     A     B  \n",
       "5           1  ...     B     A     A    B     B    A     D     A     B     B  \n",
       "6           1  ...   NaN   NaN   NaN  NaN   NaN  NaN   NaN   NaN   NaN   NaN  \n",
       "7           1  ...   NaN   NaN   NaN  NaN   NaN  NaN   NaN   NaN   NaN   NaN  \n",
       "8           1  ...     A     A     A    B     A    A     C     A     A     A  \n",
       "9           2  ...     A     A     A    B     A    A     A     A     A     B  \n",
       "10          1  ...     B     A     A    B     A    A     C     B     B     B  \n",
       "11          1  ...     A     B     A    B     A    A     C     A     B     B  \n",
       "12          1  ...     A     A     A    A     A    A     C     A     A     A  \n",
       "13          1  ...   NaN   NaN   NaN  NaN   NaN  NaN   NaN   NaN   NaN   NaN  \n",
       "14          1  ...     A     A     A    B     A    A     B     A     B     B  \n",
       "15          1  ...   NaN   NaN   NaN  NaN   NaN  NaN   NaN   NaN   NaN   NaN  \n",
       "16          1  ...     A     A     A    B     A    A     C     A     B     B  \n",
       "17          1  ...   NaN   NaN   NaN  NaN   NaN  NaN   NaN   NaN   NaN   NaN  \n",
       "18          1  ...     A     A     A    B     B    A     C     A     B     B  \n",
       "19          1  ...     A     A     A    B     B    A     C     A     A     A  \n",
       "20          1  ...     B     A     A    C     A    A     D     A     A     B  \n",
       "21          1  ...     B     A     A    C     A    A     E     A     B     B  \n",
       "22          1  ...     A     A     A    B     A    A     C     A     B     A  \n",
       "23          1  ...     A     A     A    B     B    A     C     A     A     A  \n",
       "24          1  ...     A     A     A    A     A    A     C     A     A     B  \n",
       "25          2  ...   NaN   NaN   NaN  NaN   NaN  NaN   NaN   NaN   NaN   NaN  \n",
       "26          1  ...     B     A     A    B     B    A     E     A     B     B  \n",
       "27          1  ...     B     A     B    C     B    B     D     A     B     B  \n",
       "28          1  ...     B     A     A    B     A    A     B     A     B     B  \n",
       "29          1  ...     A     A     A    B     A    A     C     A     B     B  \n",
       "30          1  ...   NaN   NaN   NaN  NaN   NaN  NaN   NaN   NaN   NaN   NaN  \n",
       "31          1  ...     A     A     A    C     A    A     C     A     A     B  \n",
       "32          1  ...   NaN   NaN   NaN  NaN   NaN  NaN   NaN   NaN   NaN   NaN  \n",
       "33          1  ...     A     A     A    B     A    A     B     A     B     A  \n",
       "34          1  ...   NaN   NaN   NaN  NaN   NaN  NaN   NaN   NaN   NaN   NaN  \n",
       "35          1  ...     B     A     B    D     A    B     D     B     B     B  \n",
       "36          2  ...     A     A     A    B     A    B     D     B     A     A  \n",
       "37          1  ...     B     A     A    B     A    B     B     A     B     B  \n",
       "38          1  ...     B     A     A    B     A    A     C     A     B     B  \n",
       "39          1  ...     A     A     A    B     A    A     C     A     A     A  \n",
       "\n",
       "[40 rows x 76 columns]"
      ]
     },
     "execution_count": 3,
     "metadata": {},
     "output_type": "execute_result"
    }
   ],
   "source": [
    "# visialisando a base\n",
    "df.head(40)"
   ]
  },
  {
   "cell_type": "code",
   "execution_count": 4,
   "id": "264adbbe",
   "metadata": {},
   "outputs": [
    {
     "data": {
      "text/plain": [
       "(5783109, 76)"
      ]
     },
     "execution_count": 4,
     "metadata": {},
     "output_type": "execute_result"
    }
   ],
   "source": [
    "# Exibindo a quantidade de linhas e colunas\n",
    "df.shape"
   ]
  },
  {
   "cell_type": "code",
   "execution_count": 5,
   "id": "5b52085e",
   "metadata": {},
   "outputs": [
    {
     "data": {
      "text/plain": [
       "Index(['NU_INSCRICAO', 'NU_ANO', 'TP_FAIXA_ETARIA', 'TP_SEXO',\n",
       "       'TP_ESTADO_CIVIL', 'TP_COR_RACA', 'TP_NACIONALIDADE', 'TP_ST_CONCLUSAO',\n",
       "       'TP_ANO_CONCLUIU', 'TP_ESCOLA', 'TP_ENSINO', 'IN_TREINEIRO',\n",
       "       'CO_MUNICIPIO_ESC', 'NO_MUNICIPIO_ESC', 'CO_UF_ESC', 'SG_UF_ESC',\n",
       "       'TP_DEPENDENCIA_ADM_ESC', 'TP_LOCALIZACAO_ESC', 'TP_SIT_FUNC_ESC',\n",
       "       'CO_MUNICIPIO_PROVA', 'NO_MUNICIPIO_PROVA', 'CO_UF_PROVA',\n",
       "       'SG_UF_PROVA', 'TP_PRESENCA_CN', 'TP_PRESENCA_CH', 'TP_PRESENCA_LC',\n",
       "       'TP_PRESENCA_MT', 'CO_PROVA_CN', 'CO_PROVA_CH', 'CO_PROVA_LC',\n",
       "       'CO_PROVA_MT', 'NU_NOTA_CN', 'NU_NOTA_CH', 'NU_NOTA_LC', 'NU_NOTA_MT',\n",
       "       'TX_RESPOSTAS_CN', 'TX_RESPOSTAS_CH', 'TX_RESPOSTAS_LC',\n",
       "       'TX_RESPOSTAS_MT', 'TP_LINGUA', 'TX_GABARITO_CN', 'TX_GABARITO_CH',\n",
       "       'TX_GABARITO_LC', 'TX_GABARITO_MT', 'TP_STATUS_REDACAO',\n",
       "       'NU_NOTA_COMP1', 'NU_NOTA_COMP2', 'NU_NOTA_COMP3', 'NU_NOTA_COMP4',\n",
       "       'NU_NOTA_COMP5', 'NU_NOTA_REDACAO', 'Q001', 'Q002', 'Q003', 'Q004',\n",
       "       'Q005', 'Q006', 'Q007', 'Q008', 'Q009', 'Q010', 'Q011', 'Q012', 'Q013',\n",
       "       'Q014', 'Q015', 'Q016', 'Q017', 'Q018', 'Q019', 'Q020', 'Q021', 'Q022',\n",
       "       'Q023', 'Q024', 'Q025'],\n",
       "      dtype='object')"
      ]
     },
     "execution_count": 5,
     "metadata": {},
     "output_type": "execute_result"
    }
   ],
   "source": [
    "# exibindo o nome das colunas\n",
    "df.columns"
   ]
  },
  {
   "cell_type": "markdown",
   "id": "58f2cb94",
   "metadata": {},
   "source": [
    "### Como impacta diretamente nos cálculos referentes as notas, os dados ausentes (NaN) relacionados a ausência do candidato na realização das provas foram removidos. "
   ]
  },
  {
   "cell_type": "code",
   "execution_count": 6,
   "id": "9d622a41",
   "metadata": {},
   "outputs": [
    {
     "data": {
      "text/plain": [
       "TP_LOCALIZACAO_ESC        4878540\n",
       "CO_UF_ESC                 4878540\n",
       "TP_SIT_FUNC_ESC           4878540\n",
       "TP_DEPENDENCIA_ADM_ESC    4878540\n",
       "SG_UF_ESC                 4878540\n",
       "CO_MUNICIPIO_ESC          4878540\n",
       "NO_MUNICIPIO_ESC          4878540\n",
       "TP_ENSINO                 4479663\n",
       "NU_NOTA_CN                3185669\n",
       "CO_PROVA_MT               3185669\n",
       "CO_PROVA_CN               3185669\n",
       "TX_RESPOSTAS_CN           3185669\n",
       "TX_GABARITO_CN            3185669\n",
       "NU_NOTA_MT                3185669\n",
       "TX_RESPOSTAS_MT           3185669\n",
       "TX_GABARITO_MT            3185669\n",
       "TP_STATUS_REDACAO         3028969\n",
       "NU_NOTA_CH                3028969\n",
       "NU_NOTA_REDACAO           3028969\n",
       "CO_PROVA_LC               3028969\n",
       "CO_PROVA_CH               3028969\n",
       "NU_NOTA_COMP5             3028969\n",
       "NU_NOTA_COMP4             3028969\n",
       "TX_RESPOSTAS_CH           3028969\n",
       "TX_RESPOSTAS_LC           3028969\n",
       "NU_NOTA_COMP3             3028969\n",
       "TX_GABARITO_CH            3028969\n",
       "TX_GABARITO_LC            3028969\n",
       "NU_NOTA_COMP2             3028969\n",
       "NU_NOTA_COMP1             3028969\n",
       "NU_NOTA_LC                3028969\n",
       "Q007                        95966\n",
       "Q006                        95966\n",
       "Q005                        95966\n",
       "Q008                        95966\n",
       "Q003                        95966\n",
       "Q009                        95966\n",
       "Q024                        95966\n",
       "Q023                        95966\n",
       "Q022                        95966\n",
       "dtype: int64"
      ]
     },
     "execution_count": 6,
     "metadata": {},
     "output_type": "execute_result"
    }
   ],
   "source": [
    "# exibindo os valores ausentes\n",
    "df.isna().sum().sort_values(ascending=False).head(40)"
   ]
  },
  {
   "cell_type": "code",
   "execution_count": 7,
   "id": "026859cb",
   "metadata": {},
   "outputs": [
    {
     "name": "stdout",
     "output_type": "stream",
     "text": [
      "<class 'pandas.core.frame.DataFrame'>\n",
      "RangeIndex: 5783109 entries, 0 to 5783108\n",
      "Data columns (total 76 columns):\n",
      " #   Column                  Dtype  \n",
      "---  ------                  -----  \n",
      " 0   NU_INSCRICAO            int64  \n",
      " 1   NU_ANO                  int64  \n",
      " 2   TP_FAIXA_ETARIA         int64  \n",
      " 3   TP_SEXO                 object \n",
      " 4   TP_ESTADO_CIVIL         int64  \n",
      " 5   TP_COR_RACA             int64  \n",
      " 6   TP_NACIONALIDADE        int64  \n",
      " 7   TP_ST_CONCLUSAO         int64  \n",
      " 8   TP_ANO_CONCLUIU         int64  \n",
      " 9   TP_ESCOLA               int64  \n",
      " 10  TP_ENSINO               float64\n",
      " 11  IN_TREINEIRO            int64  \n",
      " 12  CO_MUNICIPIO_ESC        float64\n",
      " 13  NO_MUNICIPIO_ESC        object \n",
      " 14  CO_UF_ESC               float64\n",
      " 15  SG_UF_ESC               object \n",
      " 16  TP_DEPENDENCIA_ADM_ESC  float64\n",
      " 17  TP_LOCALIZACAO_ESC      float64\n",
      " 18  TP_SIT_FUNC_ESC         float64\n",
      " 19  CO_MUNICIPIO_PROVA      int64  \n",
      " 20  NO_MUNICIPIO_PROVA      object \n",
      " 21  CO_UF_PROVA             int64  \n",
      " 22  SG_UF_PROVA             object \n",
      " 23  TP_PRESENCA_CN          int64  \n",
      " 24  TP_PRESENCA_CH          int64  \n",
      " 25  TP_PRESENCA_LC          int64  \n",
      " 26  TP_PRESENCA_MT          int64  \n",
      " 27  CO_PROVA_CN             float64\n",
      " 28  CO_PROVA_CH             float64\n",
      " 29  CO_PROVA_LC             float64\n",
      " 30  CO_PROVA_MT             float64\n",
      " 31  NU_NOTA_CN              float64\n",
      " 32  NU_NOTA_CH              float64\n",
      " 33  NU_NOTA_LC              float64\n",
      " 34  NU_NOTA_MT              float64\n",
      " 35  TX_RESPOSTAS_CN         object \n",
      " 36  TX_RESPOSTAS_CH         object \n",
      " 37  TX_RESPOSTAS_LC         object \n",
      " 38  TX_RESPOSTAS_MT         object \n",
      " 39  TP_LINGUA               int64  \n",
      " 40  TX_GABARITO_CN          object \n",
      " 41  TX_GABARITO_CH          object \n",
      " 42  TX_GABARITO_LC          object \n",
      " 43  TX_GABARITO_MT          object \n",
      " 44  TP_STATUS_REDACAO       float64\n",
      " 45  NU_NOTA_COMP1           float64\n",
      " 46  NU_NOTA_COMP2           float64\n",
      " 47  NU_NOTA_COMP3           float64\n",
      " 48  NU_NOTA_COMP4           float64\n",
      " 49  NU_NOTA_COMP5           float64\n",
      " 50  NU_NOTA_REDACAO         float64\n",
      " 51  Q001                    object \n",
      " 52  Q002                    object \n",
      " 53  Q003                    object \n",
      " 54  Q004                    object \n",
      " 55  Q005                    float64\n",
      " 56  Q006                    object \n",
      " 57  Q007                    object \n",
      " 58  Q008                    object \n",
      " 59  Q009                    object \n",
      " 60  Q010                    object \n",
      " 61  Q011                    object \n",
      " 62  Q012                    object \n",
      " 63  Q013                    object \n",
      " 64  Q014                    object \n",
      " 65  Q015                    object \n",
      " 66  Q016                    object \n",
      " 67  Q017                    object \n",
      " 68  Q018                    object \n",
      " 69  Q019                    object \n",
      " 70  Q020                    object \n",
      " 71  Q021                    object \n",
      " 72  Q022                    object \n",
      " 73  Q023                    object \n",
      " 74  Q024                    object \n",
      " 75  Q025                    object \n",
      "dtypes: float64(22), int64(17), object(37)\n",
      "memory usage: 3.3+ GB\n"
     ]
    }
   ],
   "source": [
    "# Analizando os tipos de dados\n",
    "df.info()"
   ]
  },
  {
   "cell_type": "code",
   "execution_count": 8,
   "id": "1172f94e",
   "metadata": {},
   "outputs": [],
   "source": [
    "# removendo as linhas das dos caditados que não possuem notas das provas\n",
    "df.dropna(subset=['NU_NOTA_CN', 'NU_NOTA_CH', 'NU_NOTA_LC', 'NU_NOTA_MT', 'NU_NOTA_REDACAO'], inplace=True)"
   ]
  },
  {
   "cell_type": "code",
   "execution_count": 9,
   "id": "61d6087e",
   "metadata": {},
   "outputs": [
    {
     "name": "stdout",
     "output_type": "stream",
     "text": [
      "<class 'pandas.core.frame.DataFrame'>\n",
      "Int64Index: 2588681 entries, 1 to 5783108\n",
      "Data columns (total 76 columns):\n",
      " #   Column                  Dtype  \n",
      "---  ------                  -----  \n",
      " 0   NU_INSCRICAO            int64  \n",
      " 1   NU_ANO                  int64  \n",
      " 2   TP_FAIXA_ETARIA         int64  \n",
      " 3   TP_SEXO                 object \n",
      " 4   TP_ESTADO_CIVIL         int64  \n",
      " 5   TP_COR_RACA             int64  \n",
      " 6   TP_NACIONALIDADE        int64  \n",
      " 7   TP_ST_CONCLUSAO         int64  \n",
      " 8   TP_ANO_CONCLUIU         int64  \n",
      " 9   TP_ESCOLA               int64  \n",
      " 10  TP_ENSINO               float64\n",
      " 11  IN_TREINEIRO            int64  \n",
      " 12  CO_MUNICIPIO_ESC        float64\n",
      " 13  NO_MUNICIPIO_ESC        object \n",
      " 14  CO_UF_ESC               float64\n",
      " 15  SG_UF_ESC               object \n",
      " 16  TP_DEPENDENCIA_ADM_ESC  float64\n",
      " 17  TP_LOCALIZACAO_ESC      float64\n",
      " 18  TP_SIT_FUNC_ESC         float64\n",
      " 19  CO_MUNICIPIO_PROVA      int64  \n",
      " 20  NO_MUNICIPIO_PROVA      object \n",
      " 21  CO_UF_PROVA             int64  \n",
      " 22  SG_UF_PROVA             object \n",
      " 23  TP_PRESENCA_CN          int64  \n",
      " 24  TP_PRESENCA_CH          int64  \n",
      " 25  TP_PRESENCA_LC          int64  \n",
      " 26  TP_PRESENCA_MT          int64  \n",
      " 27  CO_PROVA_CN             float64\n",
      " 28  CO_PROVA_CH             float64\n",
      " 29  CO_PROVA_LC             float64\n",
      " 30  CO_PROVA_MT             float64\n",
      " 31  NU_NOTA_CN              float64\n",
      " 32  NU_NOTA_CH              float64\n",
      " 33  NU_NOTA_LC              float64\n",
      " 34  NU_NOTA_MT              float64\n",
      " 35  TX_RESPOSTAS_CN         object \n",
      " 36  TX_RESPOSTAS_CH         object \n",
      " 37  TX_RESPOSTAS_LC         object \n",
      " 38  TX_RESPOSTAS_MT         object \n",
      " 39  TP_LINGUA               int64  \n",
      " 40  TX_GABARITO_CN          object \n",
      " 41  TX_GABARITO_CH          object \n",
      " 42  TX_GABARITO_LC          object \n",
      " 43  TX_GABARITO_MT          object \n",
      " 44  TP_STATUS_REDACAO       float64\n",
      " 45  NU_NOTA_COMP1           float64\n",
      " 46  NU_NOTA_COMP2           float64\n",
      " 47  NU_NOTA_COMP3           float64\n",
      " 48  NU_NOTA_COMP4           float64\n",
      " 49  NU_NOTA_COMP5           float64\n",
      " 50  NU_NOTA_REDACAO         float64\n",
      " 51  Q001                    object \n",
      " 52  Q002                    object \n",
      " 53  Q003                    object \n",
      " 54  Q004                    object \n",
      " 55  Q005                    float64\n",
      " 56  Q006                    object \n",
      " 57  Q007                    object \n",
      " 58  Q008                    object \n",
      " 59  Q009                    object \n",
      " 60  Q010                    object \n",
      " 61  Q011                    object \n",
      " 62  Q012                    object \n",
      " 63  Q013                    object \n",
      " 64  Q014                    object \n",
      " 65  Q015                    object \n",
      " 66  Q016                    object \n",
      " 67  Q017                    object \n",
      " 68  Q018                    object \n",
      " 69  Q019                    object \n",
      " 70  Q020                    object \n",
      " 71  Q021                    object \n",
      " 72  Q022                    object \n",
      " 73  Q023                    object \n",
      " 74  Q024                    object \n",
      " 75  Q025                    object \n",
      "dtypes: float64(22), int64(17), object(37)\n",
      "memory usage: 1.5+ GB\n"
     ]
    }
   ],
   "source": [
    "# Observando o impacto da remoção das linha com notas ausentes\n",
    "df.info()"
   ]
  },
  {
   "cell_type": "code",
   "execution_count": 10,
   "id": "6caed6f9",
   "metadata": {},
   "outputs": [
    {
     "data": {
      "text/plain": [
       "TP_SIT_FUNC_ESC           2050772\n",
       "TP_LOCALIZACAO_ESC        2050772\n",
       "TP_DEPENDENCIA_ADM_ESC    2050772\n",
       "SG_UF_ESC                 2050772\n",
       "CO_UF_ESC                 2050772\n",
       "NO_MUNICIPIO_ESC          2050772\n",
       "CO_MUNICIPIO_ESC          2050772\n",
       "TP_ENSINO                 1798573\n",
       "Q009                        27377\n",
       "Q010                        27377\n",
       "Q025                        27377\n",
       "Q012                        27377\n",
       "Q008                        27377\n",
       "Q007                        27377\n",
       "Q006                        27377\n",
       "Q005                        27377\n",
       "Q004                        27377\n",
       "Q003                        27377\n",
       "Q002                        27377\n",
       "Q001                        27377\n",
       "Q011                        27377\n",
       "Q013                        27377\n",
       "Q023                        27377\n",
       "Q015                        27377\n",
       "Q016                        27377\n",
       "Q017                        27377\n",
       "Q018                        27377\n",
       "Q019                        27377\n",
       "Q020                        27377\n",
       "Q021                        27377\n",
       "Q022                        27377\n",
       "Q014                        27377\n",
       "Q024                        27377\n",
       "NU_NOTA_COMP3                   0\n",
       "TP_STATUS_REDACAO               0\n",
       "NU_NOTA_COMP1                   0\n",
       "NU_NOTA_COMP2                   0\n",
       "TX_GABARITO_LC                  0\n",
       "NU_NOTA_COMP4                   0\n",
       "NU_NOTA_COMP5                   0\n",
       "dtype: int64"
      ]
     },
     "execution_count": 10,
     "metadata": {},
     "output_type": "execute_result"
    }
   ],
   "source": [
    "# exibindo os valores ausentes\n",
    "df.isna().sum().sort_values(ascending=False).head(40)"
   ]
  },
  {
   "cell_type": "markdown",
   "id": "38f3bb14",
   "metadata": {},
   "source": [
    "### Para facilitar a visualização nos gráficos, alguns valores foram tranformados de acordo com o Dicionário_Microdados_Enem_2020."
   ]
  },
  {
   "cell_type": "code",
   "execution_count": 11,
   "id": "d7445c65",
   "metadata": {},
   "outputs": [],
   "source": [
    "# Cor/raça\n",
    "df['TP_COR_RACA'] = df['TP_COR_RACA'].map({0:'NA', 1:'Branca', 2:'Preta', 3:'Parda', 4:'Amarela', 5:'Indigena'})"
   ]
  },
  {
   "cell_type": "code",
   "execution_count": 12,
   "id": "41f357c5",
   "metadata": {},
   "outputs": [
    {
     "data": {
      "text/plain": [
       "1     Parda\n",
       "3     Parda\n",
       "5     Parda\n",
       "7    Branca\n",
       "8     Parda\n",
       "Name: TP_COR_RACA, dtype: object"
      ]
     },
     "execution_count": 12,
     "metadata": {},
     "output_type": "execute_result"
    }
   ],
   "source": [
    "df['TP_COR_RACA'].head()"
   ]
  },
  {
   "cell_type": "code",
   "execution_count": 13,
   "id": "7d13dd47",
   "metadata": {},
   "outputs": [],
   "source": [
    "# Na sua residência tem acesso à Internet?\n",
    "df['Q025'] = df['Q025'].map({'A':'Não', 'B':'Sim'})"
   ]
  },
  {
   "cell_type": "code",
   "execution_count": 14,
   "id": "a5ffa8a6",
   "metadata": {},
   "outputs": [
    {
     "data": {
      "text/plain": [
       "1    NaN\n",
       "3    NaN\n",
       "5    Sim\n",
       "7    NaN\n",
       "8    Não\n",
       "Name: Q025, dtype: object"
      ]
     },
     "execution_count": 14,
     "metadata": {},
     "output_type": "execute_result"
    }
   ],
   "source": [
    "df['Q025'].head()"
   ]
  },
  {
   "cell_type": "code",
   "execution_count": 15,
   "id": "8cbb094f",
   "metadata": {},
   "outputs": [],
   "source": [
    "# Até que série seu pai, ou o homem responsável por você, estudou?\n",
    "df['Q001'] = df['Q001'].map({\n",
    "                            'A':'Nunca estudou', \n",
    "                            'B':'Não completou EF', \n",
    "                            'C':'Não completou EF',\n",
    "                            'D':'Não completou EM', \n",
    "                            'E':'Não completou ES', \n",
    "                            'F':'Graduada',\n",
    "                            'G':'Pós-graduada',\n",
    "                            'H':'Não sabe'\n",
    "                            })"
   ]
  },
  {
   "cell_type": "code",
   "execution_count": 16,
   "id": "5f8f94da",
   "metadata": {},
   "outputs": [
    {
     "data": {
      "text/plain": [
       "1                 NaN\n",
       "3                 NaN\n",
       "5    Não completou EF\n",
       "7                 NaN\n",
       "8    Não completou EF\n",
       "Name: Q001, dtype: object"
      ]
     },
     "execution_count": 16,
     "metadata": {},
     "output_type": "execute_result"
    }
   ],
   "source": [
    "df['Q001'].head()"
   ]
  },
  {
   "cell_type": "code",
   "execution_count": 17,
   "id": "9ec0044d",
   "metadata": {},
   "outputs": [],
   "source": [
    "# Até que série sua mãe, ou a mulher responsável por você, estudou?\n",
    "df['Q002'] = df['Q002'].map({\n",
    "                            'A':'Nunca estudou', \n",
    "                            'B':'Não completou EF', \n",
    "                            'C':'Não completou EF',\n",
    "                            'D':'Não completou EM', \n",
    "                            'E':'Não completou ES', \n",
    "                            'F':'Graduada',\n",
    "                            'G':'Pós-graduada',\n",
    "                            'H':'Não sabe'\n",
    "                            })"
   ]
  },
  {
   "cell_type": "code",
   "execution_count": 18,
   "id": "1eb746a3",
   "metadata": {},
   "outputs": [
    {
     "data": {
      "text/plain": [
       "1                 NaN\n",
       "3                 NaN\n",
       "5    Não completou EF\n",
       "7                 NaN\n",
       "8    Não completou EF\n",
       "Name: Q002, dtype: object"
      ]
     },
     "execution_count": 18,
     "metadata": {},
     "output_type": "execute_result"
    }
   ],
   "source": [
    "df['Q002'].head()"
   ]
  },
  {
   "cell_type": "code",
   "execution_count": 19,
   "id": "4e889b15",
   "metadata": {},
   "outputs": [],
   "source": [
    "# Qual é a renda mensal de sua família? (Some a sua renda com a dos seus familiares.)\n",
    "df['Q006'] = df['Q006'].map({'A':'Nenhuma renda',\n",
    "                            'B':'Até 1.045,00',\n",
    "                            'C':'Até 1.567,50',\n",
    "                            'D':'Até 2.090,00',\n",
    "                            'E':'Até 2.612,50',\n",
    "                            'F':'Até 3.135,00',\n",
    "                            'G':'Até 4.180,00',\n",
    "                            'H':'Até 5.225,00',\n",
    "                            'I':'Até 6.270,00',\n",
    "                            'J':'Até 7.315,00',\n",
    "                            'K':'Até 8.360,00',\n",
    "                            'L':'Até 9.405,00',\n",
    "                            'M':'Até 10.450,00',\n",
    "                            'N':'Até 12.540,00',\n",
    "                            'O':'Até 15.675,00',\n",
    "                            'P':'Até 20.900,00',\n",
    "                            'Q':'Acima de 20.900,00'})\n"
   ]
  },
  {
   "cell_type": "code",
   "execution_count": 20,
   "id": "daaa7f7c",
   "metadata": {},
   "outputs": [
    {
     "data": {
      "text/plain": [
       "1             NaN\n",
       "3             NaN\n",
       "5    Até 1.567,50\n",
       "7             NaN\n",
       "8    Até 1.045,00\n",
       "Name: Q006, dtype: object"
      ]
     },
     "execution_count": 20,
     "metadata": {},
     "output_type": "execute_result"
    }
   ],
   "source": [
    "df['Q006'].head()"
   ]
  },
  {
   "cell_type": "code",
   "execution_count": 21,
   "id": "989ee1e5",
   "metadata": {},
   "outputs": [],
   "source": [
    "# Faixa etária\n",
    "df['TP_FAIXA_ETARIA'] = df['TP_FAIXA_ETARIA'].map({\n",
    "                                                    1:'Menor de 17 anos',\n",
    "                                                    2:'17 anos',\n",
    "                                                    3:'18 anos',\n",
    "                                                    4:'19 anos',\n",
    "                                                    5:'20 anos',\n",
    "                                                    6:'21 anos',\n",
    "                                                    7:'22 anos',\n",
    "                                                    8:'23 anos',\n",
    "                                                    9:'24 anos',\n",
    "                                                    10:'25 anos',\n",
    "                                                    11:'Entre 26 e 30 anos',\n",
    "                                                    12:'Entre 31 e 35 anos',\n",
    "                                                    13:'Entre 36 e 40 anos',\n",
    "                                                    14:'Entre 41 e 45 anos',\n",
    "                                                    15:'Entre 46 e 50 anos',\n",
    "                                                    16:'Entre 51 e 55 anos',\n",
    "                                                    17:'Entre 56 e 60 anos',\n",
    "                                                    18:'Entre 61 e 65 anos',\n",
    "                                                    19:'Entre 66 e 70 anos',\n",
    "                                                    20:'Maior de 70 anos'})\n"
   ]
  },
  {
   "cell_type": "code",
   "execution_count": 22,
   "id": "9b83fe29",
   "metadata": {},
   "outputs": [
    {
     "data": {
      "text/plain": [
       "1    Entre 26 e 30 anos\n",
       "3               17 anos\n",
       "5               18 anos\n",
       "7               19 anos\n",
       "8               20 anos\n",
       "Name: TP_FAIXA_ETARIA, dtype: object"
      ]
     },
     "execution_count": 22,
     "metadata": {},
     "output_type": "execute_result"
    }
   ],
   "source": [
    "df['TP_FAIXA_ETARIA'].head()"
   ]
  },
  {
   "cell_type": "markdown",
   "id": "eb4c88eb",
   "metadata": {},
   "source": [
    "#### Como podemos constatar na base de dados, a maiora dos inscritos são do sexo feminino. E a maioria por etnia, são de pretos e pardos somados, totalizando aproximadamente 57%."
   ]
  },
  {
   "cell_type": "code",
   "execution_count": 23,
   "id": "65f30970",
   "metadata": {},
   "outputs": [
    {
     "data": {
      "text/plain": [
       "F    60.418839\n",
       "M    39.581161\n",
       "Name: TP_SEXO, dtype: float64"
      ]
     },
     "execution_count": 23,
     "metadata": {},
     "output_type": "execute_result"
    }
   ],
   "source": [
    "#porcentagem de cada sexo na amostra\n",
    "df['TP_SEXO'].value_counts()/df.shape[0]*100"
   ]
  },
  {
   "cell_type": "code",
   "execution_count": 24,
   "id": "2b425e5b",
   "metadata": {},
   "outputs": [
    {
     "data": {
      "text/plain": [
       "Parda       45.170919\n",
       "Branca      38.035625\n",
       "Preta       12.103268\n",
       "Amarela      2.219238\n",
       "NA           1.931486\n",
       "Indigena     0.539464\n",
       "Name: TP_COR_RACA, dtype: float64"
      ]
     },
     "execution_count": 24,
     "metadata": {},
     "output_type": "execute_result"
    }
   ],
   "source": [
    "#porcentagem de cada etnia na amostra\n",
    "df['TP_COR_RACA'].value_counts()/df.shape[0]*100"
   ]
  },
  {
   "cell_type": "code",
   "execution_count": 25,
   "id": "f3f98f10",
   "metadata": {},
   "outputs": [
    {
     "data": {
      "image/png": "[encoded data removed]",
      "text/plain": [
       "<Figure size 432x288 with 1 Axes>"
      ]
     },
     "metadata": {
      "needs_background": "light"
     },
     "output_type": "display_data"
    }
   ],
   "source": [
    "sns.countplot(x = df['TP_COR_RACA'])\n",
    "plt.xlabel('Cor/Raça')\n",
    "plt.ylabel(\"\")\n",
    "plt.show()"
   ]
  },
  {
   "cell_type": "code",
   "execution_count": 26,
   "id": "f609b910",
   "metadata": {},
   "outputs": [
    {
     "data": {
      "image/png": "[encoded data removed]",
      "text/plain": [
       "<Figure size 432x288 with 1 Axes>"
      ]
     },
     "metadata": {
      "needs_background": "light"
     },
     "output_type": "display_data"
    }
   ],
   "source": [
    "sns.countplot(x = df['TP_SEXO'], hue=df['TP_COR_RACA'], dodge=True)\n",
    "plt.title('Sexo x Cor')\n",
    "plt.xlabel('')\n",
    "plt.ylabel(\"\")\n",
    "plt.legend(loc='best')\n",
    "plt.show()"
   ]
  },
  {
   "cell_type": "markdown",
   "id": "00bf3a15",
   "metadata": {},
   "source": [
    "#### Podemos observar também que a maioria dos inscritos ficam em São Paulo."
   ]
  },
  {
   "cell_type": "code",
   "execution_count": 27,
   "id": "10dfe721",
   "metadata": {},
   "outputs": [
    {
     "data": {
      "image/png": "[encoded data removed]",
      "text/plain": [
       "<Figure size 432x288 with 1 Axes>"
      ]
     },
     "metadata": {
      "needs_background": "light"
     },
     "output_type": "display_data"
    }
   ],
   "source": [
    "sns.countplot(x = df['SG_UF_ESC'], orient='h')\n",
    "plt.title('UF de Escola', size=15)\n",
    "plt.xticks(rotation=90)\n",
    "plt.xlabel(\"\")\n",
    "plt.ylabel(\"\")\n",
    "plt.show()"
   ]
  },
  {
   "cell_type": "code",
   "execution_count": 28,
   "id": "68214d1a",
   "metadata": {},
   "outputs": [
    {
     "data": {
      "text/plain": [
       "Sim    83.068057\n",
       "Não    15.874378\n",
       "Name: Q025, dtype: float64"
      ]
     },
     "execution_count": 28,
     "metadata": {},
     "output_type": "execute_result"
    }
   ],
   "source": [
    "#Possui internet em casa?\n",
    "df['Q025'].value_counts()/df.shape[0]*100"
   ]
  },
  {
   "cell_type": "code",
   "execution_count": 29,
   "id": "76576f4f",
   "metadata": {},
   "outputs": [
    {
     "data": {
      "text/plain": [
       "Não completou ES    34.052013\n",
       "Não completou EF    25.677401\n",
       "Graduada            12.069313\n",
       "Não completou EM    11.393795\n",
       "Pós-graduada        10.627343\n",
       "Nunca estudou        2.948876\n",
       "Não sabe             2.173694\n",
       "Name: Q002, dtype: float64"
      ]
     },
     "execution_count": 29,
     "metadata": {},
     "output_type": "execute_result"
    }
   ],
   "source": [
    "#Escolaridade da mãe\n",
    "df['Q002'].value_counts()/df.shape[0]*100"
   ]
  },
  {
   "cell_type": "code",
   "execution_count": 30,
   "id": "6fb3bc21",
   "metadata": {},
   "outputs": [
    {
     "data": {
      "image/png": "[encoded data removed]",
      "text/plain": [
       "<Figure size 432x288 with 1 Axes>"
      ]
     },
     "metadata": {
      "needs_background": "light"
     },
     "output_type": "display_data"
    }
   ],
   "source": [
    "sns.countplot(x = df['Q002'])\n",
    "plt.title('Escolaridade da mãe')\n",
    "plt.xticks(rotation=90)\n",
    "plt.xlabel(\"\")\n",
    "plt.ylabel(\"\")\n",
    "plt.show()"
   ]
  },
  {
   "cell_type": "code",
   "execution_count": 31,
   "id": "6d9508b7",
   "metadata": {},
   "outputs": [
    {
     "data": {
      "text/plain": [
       "Até 1.045,00          29.301795\n",
       "Até 1.567,50          16.299845\n",
       "Até 2.090,00          12.143288\n",
       "Até 3.135,00           7.045905\n",
       "Nenhuma renda          6.597143\n",
       "Até 2.612,50           6.270027\n",
       "Até 4.180,00           5.536874\n",
       "Até 5.225,00           4.025100\n",
       "Até 6.270,00           2.457390\n",
       "Até 7.315,00           1.495549\n",
       "Acima de 20.900,00     1.220004\n",
       "Até 10.450,00          1.219810\n",
       "Até 8.360,00           1.178670\n",
       "Até 12.540,00          1.165304\n",
       "Até 15.675,00          1.060115\n",
       "Até 20.900,00          1.029096\n",
       "Até 9.405,00           0.896518\n",
       "Name: Q006, dtype: float64"
      ]
     },
     "execution_count": 31,
     "metadata": {},
     "output_type": "execute_result"
    }
   ],
   "source": [
    "#Renda da familia, incluindo a do aluno\n",
    "df['Q006'].value_counts()/df.shape[0]*100"
   ]
  },
  {
   "cell_type": "code",
   "execution_count": 32,
   "id": "06a9b0e9",
   "metadata": {},
   "outputs": [
    {
     "data": {
      "image/png": "[encoded data removed]",
      "text/plain": [
       "<Figure size 432x288 with 1 Axes>"
      ]
     },
     "metadata": {
      "needs_background": "light"
     },
     "output_type": "display_data"
    }
   ],
   "source": [
    "sns.countplot(x = df['Q006'])\n",
    "plt.title('Renda familiar mensal')\n",
    "plt.xticks(rotation=90)\n",
    "plt.xlabel(\"\")\n",
    "plt.ylabel(\"\")\n",
    "plt.show()"
   ]
  },
  {
   "cell_type": "code",
   "execution_count": 33,
   "id": "0f11e1e0",
   "metadata": {},
   "outputs": [
    {
     "data": {
      "text/html": [
       "<div>\n",
       "<style scoped>\n",
       "    .dataframe tbody tr th:only-of-type {\n",
       "        vertical-align: middle;\n",
       "    }\n",
       "\n",
       "    .dataframe tbody tr th {\n",
       "        vertical-align: top;\n",
       "    }\n",
       "\n",
       "    .dataframe thead th {\n",
       "        text-align: right;\n",
       "    }\n",
       "</style>\n",
       "<table border=\"1\" class=\"dataframe\">\n",
       "  <thead>\n",
       "    <tr style=\"text-align: right;\">\n",
       "      <th></th>\n",
       "      <th>NU_NOTA_MT</th>\n",
       "      <th>NU_NOTA_CH</th>\n",
       "    </tr>\n",
       "  </thead>\n",
       "  <tbody>\n",
       "    <tr>\n",
       "      <th>count</th>\n",
       "      <td>2.588681e+06</td>\n",
       "      <td>2.588681e+06</td>\n",
       "    </tr>\n",
       "    <tr>\n",
       "      <th>mean</th>\n",
       "      <td>5.207273e+02</td>\n",
       "      <td>5.142870e+02</td>\n",
       "    </tr>\n",
       "    <tr>\n",
       "      <th>std</th>\n",
       "      <td>1.171921e+02</td>\n",
       "      <td>9.496106e+01</td>\n",
       "    </tr>\n",
       "    <tr>\n",
       "      <th>min</th>\n",
       "      <td>0.000000e+00</td>\n",
       "      <td>0.000000e+00</td>\n",
       "    </tr>\n",
       "    <tr>\n",
       "      <th>25%</th>\n",
       "      <td>4.259000e+02</td>\n",
       "      <td>4.387000e+02</td>\n",
       "    </tr>\n",
       "    <tr>\n",
       "      <th>50%</th>\n",
       "      <td>5.053000e+02</td>\n",
       "      <td>5.157000e+02</td>\n",
       "    </tr>\n",
       "    <tr>\n",
       "      <th>75%</th>\n",
       "      <td>6.024000e+02</td>\n",
       "      <td>5.834000e+02</td>\n",
       "    </tr>\n",
       "    <tr>\n",
       "      <th>max</th>\n",
       "      <td>9.750000e+02</td>\n",
       "      <td>8.626000e+02</td>\n",
       "    </tr>\n",
       "  </tbody>\n",
       "</table>\n",
       "</div>"
      ],
      "text/plain": [
       "         NU_NOTA_MT    NU_NOTA_CH\n",
       "count  2.588681e+06  2.588681e+06\n",
       "mean   5.207273e+02  5.142870e+02\n",
       "std    1.171921e+02  9.496106e+01\n",
       "min    0.000000e+00  0.000000e+00\n",
       "25%    4.259000e+02  4.387000e+02\n",
       "50%    5.053000e+02  5.157000e+02\n",
       "75%    6.024000e+02  5.834000e+02\n",
       "max    9.750000e+02  8.626000e+02"
      ]
     },
     "execution_count": 33,
     "metadata": {},
     "output_type": "execute_result"
    }
   ],
   "source": [
    "df[['TP_FAIXA_ETARIA', 'NU_NOTA_MT', 'NU_NOTA_CH']].describe()"
   ]
  },
  {
   "cell_type": "code",
   "execution_count": 34,
   "id": "ebef45fe",
   "metadata": {},
   "outputs": [
    {
     "data": {
      "image/png": "[encoded data removed]",
      "text/plain": [
       "<Figure size 432x288 with 1 Axes>"
      ]
     },
     "metadata": {
      "needs_background": "light"
     },
     "output_type": "display_data"
    }
   ],
   "source": [
    "plt.hist(df['NU_NOTA_MT'], alpha=0.7, color='red')\n",
    "plt.hist(df['NU_NOTA_CH'], alpha=0.7, color='blue')\n",
    "plt.title('Histograma das notas')\n",
    "plt.show()"
   ]
  },
  {
   "cell_type": "markdown",
   "id": "7627b015",
   "metadata": {},
   "source": [
    "#### A maioria dos inscritos possuem entre 17 a 30 anos."
   ]
  },
  {
   "cell_type": "code",
   "execution_count": 35,
   "id": "efd0c952",
   "metadata": {},
   "outputs": [
    {
     "data": {
      "image/png": "[encoded data removed]",
      "text/plain": [
       "<Figure size 432x288 with 1 Axes>"
      ]
     },
     "metadata": {
      "needs_background": "light"
     },
     "output_type": "display_data"
    }
   ],
   "source": [
    "plt.hist(x= df['TP_FAIXA_ETARIA'], bins=15, histtype='bar', color='#3CB371')\n",
    "plt.title('Histograma da idade')\n",
    "plt.xticks(rotation=90)\n",
    "plt.show()"
   ]
  },
  {
   "cell_type": "markdown",
   "id": "49f459b1",
   "metadata": {},
   "source": [
    "### A partir da faixa de 36 anos as notas em matemática começa a cair."
   ]
  },
  {
   "cell_type": "code",
   "execution_count": 36,
   "id": "29311c6f",
   "metadata": {},
   "outputs": [
    {
     "data": {
      "image/png": "[encoded data removed]",
      "text/plain": [
       "<Figure size 432x288 with 1 Axes>"
      ]
     },
     "metadata": {
      "needs_background": "light"
     },
     "output_type": "display_data"
    }
   ],
   "source": [
    "plt.scatter(df['TP_FAIXA_ETARIA'], df['NU_NOTA_MT'], alpha=0.5)\n",
    "plt.title(\"Idade x Nota na prova de matemática\", size=15)\n",
    "plt.xticks(rotation=90)\n",
    "plt.xlabel(\"Idade\")\n",
    "plt.ylabel(\"Nota de matemática\")\n",
    "plt.ylim(200) #ignorando as notas = 0\n",
    "plt.show()"
   ]
  },
  {
   "cell_type": "code",
   "execution_count": 37,
   "id": "a518bfec",
   "metadata": {},
   "outputs": [
    {
     "data": {
      "image/png": "[encoded data removed]",
      "text/plain": [
       "<Figure size 432x288 with 1 Axes>"
      ]
     },
     "metadata": {
      "needs_background": "light"
     },
     "output_type": "display_data"
    }
   ],
   "source": [
    "plt.scatter(df['TP_FAIXA_ETARIA'], df['NU_NOTA_CH'], alpha=0.5)\n",
    "plt.title(\"Idade x Nota na prova de humanas\", size=15)\n",
    "plt.xticks(rotation=90)\n",
    "plt.xlabel(\"Idade\")\n",
    "plt.ylabel(\"Nota de ciências humanas\")\n",
    "plt.ylim(200) #ignorando as notas = 0\n",
    "plt.show()"
   ]
  },
  {
   "cell_type": "code",
   "execution_count": 38,
   "id": "29c80295",
   "metadata": {},
   "outputs": [
    {
     "data": {
      "image/png": "[encoded data removed]",
      "text/plain": [
       "<Figure size 432x288 with 1 Axes>"
      ]
     },
     "metadata": {
      "needs_background": "light"
     },
     "output_type": "display_data"
    }
   ],
   "source": [
    "plt.scatter(df['NU_NOTA_MT'], df['NU_NOTA_CH'], alpha=0.5)\n",
    "plt.xlim(300) #removendo as notas =0\n",
    "plt.ylim(300) #removendo as notas =0\n",
    "plt.xlabel(\"Nota de Matemática\")\n",
    "plt.ylabel(\"Nota de Ciências Humanas\")\n",
    "plt.show()"
   ]
  },
  {
   "cell_type": "markdown",
   "id": "b09b1f31",
   "metadata": {},
   "source": [
    "#### O sexo masculino possui o melhor desempenho em matemática."
   ]
  },
  {
   "cell_type": "code",
   "execution_count": 39,
   "id": "d0c4c846",
   "metadata": {},
   "outputs": [
    {
     "data": {
      "image/png": "[encoded data removed]",
      "text/plain": [
       "<Figure size 432x288 with 1 Axes>"
      ]
     },
     "metadata": {
      "needs_background": "light"
     },
     "output_type": "display_data"
    }
   ],
   "source": [
    "sns.boxplot(x=df['TP_SEXO'], y=df['NU_NOTA_MT'])\n",
    "plt.xlabel(\"\")\n",
    "plt.ylabel(\"Nota de Matemática\")\n",
    "plt.show()\n",
    "\n",
    "#fazer teste estatistico pra ver se tem diferença significativa entre os sexos"
   ]
  },
  {
   "cell_type": "code",
   "execution_count": 40,
   "id": "c961f497",
   "metadata": {},
   "outputs": [],
   "source": [
    "from scipy import stats\n",
    "from statsmodels.stats import diagnostic"
   ]
  },
  {
   "cell_type": "code",
   "execution_count": 41,
   "id": "4586c282",
   "metadata": {},
   "outputs": [
    {
     "name": "stdout",
     "output_type": "stream",
     "text": [
      "1564051\n",
      "1024630\n"
     ]
    }
   ],
   "source": [
    "sexo = df[['TP_SEXO', 'NU_NOTA_MT']]\n",
    "sexo_f = sexo.query('TP_SEXO == \"F\"').drop('TP_SEXO',axis=1).dropna()\n",
    "sexo_m = sexo.query('TP_SEXO == \"M\"').drop('TP_SEXO',axis=1).dropna()\n",
    "print(sexo_f.shape[0])\n",
    "print(sexo_m.shape[0])"
   ]
  },
  {
   "cell_type": "code",
   "execution_count": 42,
   "id": "25c18ece",
   "metadata": {},
   "outputs": [
    {
     "name": "stdout",
     "output_type": "stream",
     "text": [
      "sexo_f: (0.07422840754838611, 0.0009999999999998899)\n",
      "sexo_m: (0.04325717706746768, 0.0009999999999998899)\n"
     ]
    }
   ],
   "source": [
    "# teste de normalidade: Shapiro-Wilk \"p-value may not be accurate for N > 5000.\"\n",
    "# teste de normalidade: Lilliefors Test: FALHOU! \n",
    "# mas eu imaginava isso pelos gráficos e diferença entre media e mediana\n",
    "\n",
    "print('sexo_f:',diagnostic.lilliefors(sexo_f))\n",
    "print('sexo_m:',diagnostic.lilliefors(sexo_m))"
   ]
  },
  {
   "cell_type": "code",
   "execution_count": 43,
   "id": "c306bba5",
   "metadata": {},
   "outputs": [
    {
     "data": {
      "text/plain": [
       "MannwhitneyuResult(statistic=array([6.02866504e+11]), pvalue=array([0.]))"
      ]
     },
     "execution_count": 43,
     "metadata": {},
     "output_type": "execute_result"
    }
   ],
   "source": [
    "# Teste U de Mann–Whitney: são estatisticamente diferentes!\n",
    "stats.mannwhitneyu(sexo_f, sexo_m, alternative='two-sided')"
   ]
  },
  {
   "cell_type": "markdown",
   "id": "04594c0b",
   "metadata": {},
   "source": [
    "#### A nota de matemática é maior para os candidatos que possuem internet em casa."
   ]
  },
  {
   "cell_type": "code",
   "execution_count": 44,
   "id": "af656c11",
   "metadata": {},
   "outputs": [
    {
     "data": {
      "image/png": "[encoded data removed]",
      "text/plain": [
       "<Figure size 432x288 with 1 Axes>"
      ]
     },
     "metadata": {
      "needs_background": "light"
     },
     "output_type": "display_data"
    }
   ],
   "source": [
    "sns.boxplot(x=df['Q025'], y=df['NU_NOTA_MT'])\n",
    "plt.xlabel(\"Tem internet em casa?\")\n",
    "plt.ylabel(\"Nota de Matemática\")\n",
    "plt.show()"
   ]
  },
  {
   "cell_type": "code",
   "execution_count": 45,
   "id": "65a86fbc",
   "metadata": {},
   "outputs": [
    {
     "name": "stdout",
     "output_type": "stream",
     "text": [
      "410937\n",
      "2150367\n"
     ]
    }
   ],
   "source": [
    "internet = df[['Q025', 'NU_NOTA_MT']]\n",
    "internet_n = internet.query('Q025 == \"Não\"').drop('Q025',axis=1).dropna()\n",
    "internet_s = internet.query('Q025 == \"Sim\"').drop('Q025',axis=1).dropna()\n",
    "print(internet_n.shape[0])\n",
    "print(internet_s.shape[0])"
   ]
  },
  {
   "cell_type": "code",
   "execution_count": 46,
   "id": "bb162217",
   "metadata": {},
   "outputs": [
    {
     "name": "stdout",
     "output_type": "stream",
     "text": [
      "internet_n: (0.07745168583882056, 0.0009999999999998899)\n",
      "internet_s: (0.0553227049859889, 0.0009999999999998899)\n"
     ]
    }
   ],
   "source": [
    "# teste de normalidade: FALHOU!\n",
    "print('internet_n:',diagnostic.lilliefors(internet_n))\n",
    "print('internet_s:',diagnostic.lilliefors(internet_s))"
   ]
  },
  {
   "cell_type": "code",
   "execution_count": 47,
   "id": "1dec7005",
   "metadata": {},
   "outputs": [
    {
     "data": {
      "text/plain": [
       "MannwhitneyuResult(statistic=array([2.87403334e+11]), pvalue=array([0.]))"
      ]
     },
     "execution_count": 47,
     "metadata": {},
     "output_type": "execute_result"
    }
   ],
   "source": [
    "# Teste U de Mann–Whitney: são estatisticamente diferentes!\n",
    "stats.mannwhitneyu(internet_n, internet_s, alternative='two-sided')"
   ]
  },
  {
   "cell_type": "code",
   "execution_count": 48,
   "id": "d7959812",
   "metadata": {},
   "outputs": [],
   "source": [
    "#### A nota de mátematica é maior para pessoas brancas."
   ]
  },
  {
   "cell_type": "code",
   "execution_count": 49,
   "id": "11912dce",
   "metadata": {},
   "outputs": [
    {
     "data": {
      "image/png": "[encoded data removed]",
      "text/plain": [
       "<Figure size 432x288 with 1 Axes>"
      ]
     },
     "metadata": {
      "needs_background": "light"
     },
     "output_type": "display_data"
    }
   ],
   "source": [
    "sns.boxplot(x=df['TP_COR_RACA'], y=df['NU_NOTA_MT'])\n",
    "plt.xlabel(\"\")\n",
    "plt.ylabel(\"Nota de Matemática\")\n",
    "plt.show()"
   ]
  },
  {
   "cell_type": "code",
   "execution_count": 50,
   "id": "99806c20",
   "metadata": {},
   "outputs": [
    {
     "name": "stdout",
     "output_type": "stream",
     "text": [
      "984621\n",
      "1169331\n",
      "313315\n",
      "57449\n",
      "13965\n"
     ]
    }
   ],
   "source": [
    "raca = df[['TP_COR_RACA', 'NU_NOTA_MT']]\n",
    "raca_b = raca.query('TP_COR_RACA == \"Branca\"').drop('TP_COR_RACA',axis=1).dropna()\n",
    "raca_pa = raca.query('TP_COR_RACA == \"Parda\"').drop('TP_COR_RACA',axis=1).dropna()\n",
    "raca_pr = raca.query('TP_COR_RACA == \"Preta\"').drop('TP_COR_RACA',axis=1).dropna()\n",
    "raca_a = raca.query('TP_COR_RACA == \"Amarela\"').drop('TP_COR_RACA',axis=1).dropna()\n",
    "raca_i = raca.query('TP_COR_RACA == \"Indigena\"').drop('TP_COR_RACA',axis=1).dropna()\n",
    "\n",
    "print(raca_b.shape[0])\n",
    "print(raca_pa.shape[0])\n",
    "print(raca_pr.shape[0])\n",
    "print(raca_a.shape[0])\n",
    "print(raca_i.shape[0]) "
   ]
  },
  {
   "cell_type": "code",
   "execution_count": 51,
   "id": "c9385a6a",
   "metadata": {},
   "outputs": [
    {
     "data": {
      "image/png": "[encoded data removed]",
      "text/plain": [
       "<Figure size 432x288 with 1 Axes>"
      ]
     },
     "metadata": {
      "needs_background": "light"
     },
     "output_type": "display_data"
    }
   ],
   "source": [
    "sns.boxplot(x=df['Q006'], y=df['NU_NOTA_MT'])\n",
    "plt.xticks(rotation=90)\n",
    "plt.xlabel(\"Renda familiar\")\n",
    "plt.ylabel(\"Nota de Matemática\")\n",
    "plt.show()"
   ]
  },
  {
   "cell_type": "code",
   "execution_count": 52,
   "id": "7ef4234b",
   "metadata": {},
   "outputs": [
    {
     "data": {
      "image/png": "[encoded data removed]",
      "text/plain": [
       "<Figure size 432x288 with 1 Axes>"
      ]
     },
     "metadata": {
      "needs_background": "light"
     },
     "output_type": "display_data"
    }
   ],
   "source": [
    "sns.boxplot(x=df['Q002'], y=df['NU_NOTA_MT'])\n",
    "plt.xticks(rotation=90)\n",
    "plt.xlabel(\"Escolaridade da mãe\")\n",
    "plt.ylabel(\"Nota de Matemática\")\n",
    "plt.show()"
   ]
  },
  {
   "cell_type": "code",
   "execution_count": 53,
   "id": "05c4d26c",
   "metadata": {},
   "outputs": [
    {
     "data": {
      "image/png": "[encoded data removed]",
      "text/plain": [
       "<Figure size 432x288 with 1 Axes>"
      ]
     },
     "metadata": {
      "needs_background": "light"
     },
     "output_type": "display_data"
    }
   ],
   "source": [
    "sns.boxplot(x=df['SG_UF_ESC'], y=df['NU_NOTA_MT'])\n",
    "plt.xticks(rotation=90)\n",
    "plt.xlabel(\"\")\n",
    "plt.ylabel(\"Nota de Matemática\")\n",
    "plt.show()"
   ]
  }
 ],
 "metadata": {
  "kernelspec": {
   "display_name": "Python 3",
   "language": "python",
   "name": "python3"
  },
  "language_info": {
   "codemirror_mode": {
    "name": "ipython",
    "version": 3
   },
   "file_extension": ".py",
   "mimetype": "text/x-python",
   "name": "python",
   "nbconvert_exporter": "python",
   "pygments_lexer": "ipython3",
   "version": "3.9.6"
  }
 },
 "nbformat": 4,
 "nbformat_minor": 5
}
